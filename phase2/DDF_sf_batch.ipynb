{
 "cells": [
  {
   "cell_type": "markdown",
   "id": "45bee616-b402-48cc-ba27-65d70d7edc53",
   "metadata": {},
   "source": [
    "## Re-examine SF_Uncert metric in DDF regarding season length (SF batch)"
   ]
  },
  {
   "cell_type": "code",
   "execution_count": 1,
   "id": "408fbdb4-71ff-410f-9f71-d0bba535ee33",
   "metadata": {},
   "outputs": [],
   "source": [
    "# development code\n",
    "%load_ext autoreload\n",
    "%autoreload 2"
   ]
  },
  {
   "cell_type": "code",
   "execution_count": 2,
   "id": "9e1da528-09d5-4bd9-a037-9aed201e0be7",
   "metadata": {},
   "outputs": [],
   "source": [
    "%matplotlib inline\n",
    "import matplotlib.pyplot as plt\n",
    "import matplotlib as mpl\n",
    "import pandas as pd\n",
    "import numpy as np\n",
    "import glob\n",
    "import os, sys"
   ]
  },
  {
   "cell_type": "code",
   "execution_count": 3,
   "id": "11633567-82f2-44cc-b0d5-92b599061054",
   "metadata": {},
   "outputs": [],
   "source": [
    "# add the path the scripts\n",
    "sys.path.insert(0, \"../scripts/\")"
   ]
  },
  {
   "cell_type": "code",
   "execution_count": 4,
   "id": "582b2a2f-efe8-4d59-8116-9f3313b05732",
   "metadata": {},
   "outputs": [
    {
     "data": {
      "text/plain": [
       "'0.10.1.dev64+gc32f68b'"
      ]
     },
     "execution_count": 4,
     "metadata": {},
     "output_type": "execute_result"
    }
   ],
   "source": [
    "# import rubin_sim python modules\n",
    "import rubin_sim.maf.db as db\n",
    "import rubin_sim.maf.metrics as metrics\n",
    "import rubin_sim.maf.slicers as slicers\n",
    "import rubin_sim.maf.stackers as stackers\n",
    "import rubin_sim.maf.plots as plots\n",
    "import rubin_sim.maf.metricBundles as metricBundles\n",
    "import rubin_sim.maf as maf\n",
    "from rubin_sim.maf.utils import m52snr\n",
    "\n",
    "# footprint utils\n",
    "from rubin_sim.scheduler.utils import footprints\n",
    "\n",
    "# import convenience functions\n",
    "from opsimUtils import *\n",
    "\n",
    "# import custom stacker/metrics from script\n",
    "from agnstructure import *\n",
    "\n",
    "# print version\n",
    "import rubin_sim\n",
    "\n",
    "rubin_sim.__version__"
   ]
  },
  {
   "cell_type": "markdown",
   "id": "94c52c9b-b5cc-409a-9451-94f7bdfd5ae6",
   "metadata": {},
   "source": [
    "### 1. Pull rolling opsims to evaluate "
   ]
  },
  {
   "cell_type": "code",
   "execution_count": 5,
   "id": "5b39ecfb-afca-4b07-9b89-cad6cfeff790",
   "metadata": {},
   "outputs": [
    {
     "data": {
      "text/plain": [
       "array(['baseline_v2.1_10yrs', 'ddf_season_length_slf0.10_v2.1_10yrs',\n",
       "       'ddf_season_length_slf0.15_v2.1_10yrs',\n",
       "       'ddf_season_length_slf0.20_v2.1_10yrs',\n",
       "       'ddf_season_length_slf0.25_v2.1_10yrs',\n",
       "       'ddf_season_length_slf0.30_v2.1_10yrs',\n",
       "       'ddf_season_length_slf0.35_v2.1_10yrs'], dtype=object)"
      ]
     },
     "execution_count": 5,
     "metadata": {},
     "output_type": "execute_result"
    }
   ],
   "source": [
    "families = maf.archive.get_family_descriptions()\n",
    "family_list = families.index.values\n",
    "\n",
    "# pull roll runs\n",
    "fam = [\"ddf season length\"]\n",
    "baseline_run = families.loc[\"ddf season length\", \"reference\"]\n",
    "ddf_runs = np.concatenate([[baseline_run], families.explode(\"run\").loc[fam, \"run\"]])\n",
    "ddf_runs"
   ]
  },
  {
   "cell_type": "markdown",
   "id": "aa7594e9-7f9d-4a41-85ef-5270f89565b7",
   "metadata": {},
   "source": [
    "### 2. Test SF Uncert on the baseline"
   ]
  },
  {
   "cell_type": "code",
   "execution_count": 6,
   "id": "92bf1e63-533d-48c4-9180-c9813079eefa",
   "metadata": {},
   "outputs": [],
   "source": [
    "dbDir = rubin_sim.data.get_data_dir()\n",
    "outDir = \"/home/jovyan/mount/ResearchData/MAFOutput/ddf_sf/ResultsDb\"\n",
    "metricDataPath = \"/home/jovyan/mount/ResearchData/MAFOutput/ddf_sf/MetricData\"\n",
    "\n",
    "if not os.path.exists(os.path.abspath(outDir)):\n",
    "    os.makedirs(os.path.abspath(outDir))\n",
    "\n",
    "if not os.path.exists(os.path.abspath(metricDataPath)):\n",
    "    os.makedirs(os.path.abspath(metricDataPath))"
   ]
  },
  {
   "cell_type": "code",
   "execution_count": 7,
   "id": "080b7d14-e64c-4c13-a129-27934adf9f5c",
   "metadata": {},
   "outputs": [],
   "source": [
    "# create dict for storing dbs\n",
    "opSimDbs, resultDbs = connect_dbs(dbDir, outDir, dbRuns=ddf_runs)"
   ]
  },
  {
   "cell_type": "code",
   "execution_count": 8,
   "id": "f945b7d1-f83e-4328-b27e-12aa66002bbc",
   "metadata": {},
   "outputs": [],
   "source": [
    "ddfFields = ['COSMOS', 'XMM-LSS', 'ELAISS1', 'ECDFS', 'EDFS']\n",
    "agn_m5 = {\"u\": 22.89, \"g\": 23.94, \"r\": 23.5, \"i\": 22.93, \"z\": 22.28, \"y\": 21.5}"
   ]
  },
  {
   "cell_type": "markdown",
   "id": "12437270-d309-4fff-8bfc-6e5c13e4d794",
   "metadata": {
    "tags": []
   },
   "source": [
    "#### 2.1 Default 10 bins"
   ]
  },
  {
   "cell_type": "code",
   "execution_count": 9,
   "id": "9ac826c2-c6c4-42cc-887f-b65bcc37df98",
   "metadata": {
    "scrolled": true,
    "tags": []
   },
   "outputs": [
    {
     "name": "stdout",
     "output_type": "stream",
     "text": [
      "Runing metrics on Opsim: baseline_v2.1_10yrs!\n",
      "*****************************************\n",
      "Healpix slicer using NSIDE=128, approximate resolution 27.483891 arcminutes\n",
      "Healpix slicer using NSIDE=128, approximate resolution 27.483891 arcminutes\n",
      "Healpix slicer using NSIDE=128, approximate resolution 27.483891 arcminutes\n",
      "Healpix slicer using NSIDE=128, approximate resolution 27.483891 arcminutes\n",
      "Healpix slicer using NSIDE=128, approximate resolution 27.483891 arcminutes\n"
     ]
    },
    {
     "name": "stderr",
     "output_type": "stream",
     "text": [
      "/opt/conda/envs/rubin/lib/python3.10/site-packages/rubin_sim/maf/slicers/baseSpatialSlicer.py:118: UserWarning: Warning:  Loading maps but cache on.Should probably set useCache=False in slicer.\n",
      "  warnings.warn(\n",
      "/opt/conda/envs/rubin/lib/python3.10/site-packages/rubin_sim/maf/slicers/baseSpatialSlicer.py:118: UserWarning: Warning:  Loading maps but cache on.Should probably set useCache=False in slicer.\n",
      "  warnings.warn(\n",
      "/opt/conda/envs/rubin/lib/python3.10/site-packages/rubin_sim/maf/slicers/baseSpatialSlicer.py:118: UserWarning: Warning:  Loading maps but cache on.Should probably set useCache=False in slicer.\n",
      "  warnings.warn(\n",
      "/opt/conda/envs/rubin/lib/python3.10/site-packages/rubin_sim/maf/slicers/baseSpatialSlicer.py:118: UserWarning: Warning:  Loading maps but cache on.Should probably set useCache=False in slicer.\n",
      "  warnings.warn(\n",
      "/opt/conda/envs/rubin/lib/python3.10/site-packages/rubin_sim/maf/slicers/baseSpatialSlicer.py:118: UserWarning: Warning:  Loading maps but cache on.Should probably set useCache=False in slicer.\n",
      "  warnings.warn(\n",
      "/opt/conda/envs/rubin/lib/python3.10/site-packages/rubin_sim/maf/slicers/baseSpatialSlicer.py:118: UserWarning: Warning:  Loading maps but cache on.Should probably set useCache=False in slicer.\n",
      "  warnings.warn(\n"
     ]
    },
    {
     "name": "stdout",
     "output_type": "stream",
     "text": [
      "Runing metrics on Opsim: ddf_season_length_slf0.10_v2.1_10yrs!\n",
      "*****************************************\n",
      "Healpix slicer using NSIDE=128, approximate resolution 27.483891 arcminutes\n",
      "Healpix slicer using NSIDE=128, approximate resolution 27.483891 arcminutes\n",
      "Healpix slicer using NSIDE=128, approximate resolution 27.483891 arcminutes\n",
      "Healpix slicer using NSIDE=128, approximate resolution 27.483891 arcminutes\n",
      "Healpix slicer using NSIDE=128, approximate resolution 27.483891 arcminutes\n"
     ]
    },
    {
     "name": "stderr",
     "output_type": "stream",
     "text": [
      "/opt/conda/envs/rubin/lib/python3.10/site-packages/rubin_sim/maf/slicers/baseSpatialSlicer.py:118: UserWarning: Warning:  Loading maps but cache on.Should probably set useCache=False in slicer.\n",
      "  warnings.warn(\n",
      "/opt/conda/envs/rubin/lib/python3.10/site-packages/rubin_sim/maf/slicers/baseSpatialSlicer.py:118: UserWarning: Warning:  Loading maps but cache on.Should probably set useCache=False in slicer.\n",
      "  warnings.warn(\n",
      "/opt/conda/envs/rubin/lib/python3.10/site-packages/rubin_sim/maf/slicers/baseSpatialSlicer.py:118: UserWarning: Warning:  Loading maps but cache on.Should probably set useCache=False in slicer.\n",
      "  warnings.warn(\n",
      "/opt/conda/envs/rubin/lib/python3.10/site-packages/rubin_sim/maf/slicers/baseSpatialSlicer.py:118: UserWarning: Warning:  Loading maps but cache on.Should probably set useCache=False in slicer.\n",
      "  warnings.warn(\n",
      "/opt/conda/envs/rubin/lib/python3.10/site-packages/rubin_sim/maf/slicers/baseSpatialSlicer.py:118: UserWarning: Warning:  Loading maps but cache on.Should probably set useCache=False in slicer.\n",
      "  warnings.warn(\n",
      "/opt/conda/envs/rubin/lib/python3.10/site-packages/rubin_sim/maf/slicers/baseSpatialSlicer.py:118: UserWarning: Warning:  Loading maps but cache on.Should probably set useCache=False in slicer.\n",
      "  warnings.warn(\n"
     ]
    },
    {
     "name": "stdout",
     "output_type": "stream",
     "text": [
      "Runing metrics on Opsim: ddf_season_length_slf0.15_v2.1_10yrs!\n",
      "*****************************************\n",
      "Healpix slicer using NSIDE=128, approximate resolution 27.483891 arcminutes\n",
      "Healpix slicer using NSIDE=128, approximate resolution 27.483891 arcminutes\n",
      "Healpix slicer using NSIDE=128, approximate resolution 27.483891 arcminutes\n",
      "Healpix slicer using NSIDE=128, approximate resolution 27.483891 arcminutes\n",
      "Healpix slicer using NSIDE=128, approximate resolution 27.483891 arcminutes\n"
     ]
    },
    {
     "name": "stderr",
     "output_type": "stream",
     "text": [
      "/opt/conda/envs/rubin/lib/python3.10/site-packages/rubin_sim/maf/slicers/baseSpatialSlicer.py:118: UserWarning: Warning:  Loading maps but cache on.Should probably set useCache=False in slicer.\n",
      "  warnings.warn(\n",
      "/opt/conda/envs/rubin/lib/python3.10/site-packages/rubin_sim/maf/slicers/baseSpatialSlicer.py:118: UserWarning: Warning:  Loading maps but cache on.Should probably set useCache=False in slicer.\n",
      "  warnings.warn(\n",
      "/opt/conda/envs/rubin/lib/python3.10/site-packages/rubin_sim/maf/slicers/baseSpatialSlicer.py:118: UserWarning: Warning:  Loading maps but cache on.Should probably set useCache=False in slicer.\n",
      "  warnings.warn(\n",
      "/opt/conda/envs/rubin/lib/python3.10/site-packages/rubin_sim/maf/slicers/baseSpatialSlicer.py:118: UserWarning: Warning:  Loading maps but cache on.Should probably set useCache=False in slicer.\n",
      "  warnings.warn(\n",
      "/opt/conda/envs/rubin/lib/python3.10/site-packages/rubin_sim/maf/slicers/baseSpatialSlicer.py:118: UserWarning: Warning:  Loading maps but cache on.Should probably set useCache=False in slicer.\n",
      "  warnings.warn(\n",
      "/opt/conda/envs/rubin/lib/python3.10/site-packages/rubin_sim/maf/slicers/baseSpatialSlicer.py:118: UserWarning: Warning:  Loading maps but cache on.Should probably set useCache=False in slicer.\n",
      "  warnings.warn(\n"
     ]
    },
    {
     "name": "stdout",
     "output_type": "stream",
     "text": [
      "Runing metrics on Opsim: ddf_season_length_slf0.20_v2.1_10yrs!\n",
      "*****************************************\n",
      "Healpix slicer using NSIDE=128, approximate resolution 27.483891 arcminutes\n",
      "Healpix slicer using NSIDE=128, approximate resolution 27.483891 arcminutes\n",
      "Healpix slicer using NSIDE=128, approximate resolution 27.483891 arcminutes\n",
      "Healpix slicer using NSIDE=128, approximate resolution 27.483891 arcminutes\n",
      "Healpix slicer using NSIDE=128, approximate resolution 27.483891 arcminutes\n"
     ]
    },
    {
     "name": "stderr",
     "output_type": "stream",
     "text": [
      "/opt/conda/envs/rubin/lib/python3.10/site-packages/rubin_sim/maf/slicers/baseSpatialSlicer.py:118: UserWarning: Warning:  Loading maps but cache on.Should probably set useCache=False in slicer.\n",
      "  warnings.warn(\n",
      "/opt/conda/envs/rubin/lib/python3.10/site-packages/rubin_sim/maf/slicers/baseSpatialSlicer.py:118: UserWarning: Warning:  Loading maps but cache on.Should probably set useCache=False in slicer.\n",
      "  warnings.warn(\n",
      "/opt/conda/envs/rubin/lib/python3.10/site-packages/rubin_sim/maf/slicers/baseSpatialSlicer.py:118: UserWarning: Warning:  Loading maps but cache on.Should probably set useCache=False in slicer.\n",
      "  warnings.warn(\n",
      "/opt/conda/envs/rubin/lib/python3.10/site-packages/rubin_sim/maf/slicers/baseSpatialSlicer.py:118: UserWarning: Warning:  Loading maps but cache on.Should probably set useCache=False in slicer.\n",
      "  warnings.warn(\n",
      "/opt/conda/envs/rubin/lib/python3.10/site-packages/rubin_sim/maf/slicers/baseSpatialSlicer.py:118: UserWarning: Warning:  Loading maps but cache on.Should probably set useCache=False in slicer.\n",
      "  warnings.warn(\n",
      "/opt/conda/envs/rubin/lib/python3.10/site-packages/rubin_sim/maf/slicers/baseSpatialSlicer.py:118: UserWarning: Warning:  Loading maps but cache on.Should probably set useCache=False in slicer.\n",
      "  warnings.warn(\n"
     ]
    },
    {
     "name": "stdout",
     "output_type": "stream",
     "text": [
      "Runing metrics on Opsim: ddf_season_length_slf0.25_v2.1_10yrs!\n",
      "*****************************************\n",
      "Healpix slicer using NSIDE=128, approximate resolution 27.483891 arcminutes\n",
      "Healpix slicer using NSIDE=128, approximate resolution 27.483891 arcminutes\n",
      "Healpix slicer using NSIDE=128, approximate resolution 27.483891 arcminutes\n",
      "Healpix slicer using NSIDE=128, approximate resolution 27.483891 arcminutes\n",
      "Healpix slicer using NSIDE=128, approximate resolution 27.483891 arcminutes\n"
     ]
    },
    {
     "name": "stderr",
     "output_type": "stream",
     "text": [
      "/opt/conda/envs/rubin/lib/python3.10/site-packages/rubin_sim/maf/slicers/baseSpatialSlicer.py:118: UserWarning: Warning:  Loading maps but cache on.Should probably set useCache=False in slicer.\n",
      "  warnings.warn(\n",
      "/opt/conda/envs/rubin/lib/python3.10/site-packages/rubin_sim/maf/slicers/baseSpatialSlicer.py:118: UserWarning: Warning:  Loading maps but cache on.Should probably set useCache=False in slicer.\n",
      "  warnings.warn(\n",
      "/opt/conda/envs/rubin/lib/python3.10/site-packages/rubin_sim/maf/slicers/baseSpatialSlicer.py:118: UserWarning: Warning:  Loading maps but cache on.Should probably set useCache=False in slicer.\n",
      "  warnings.warn(\n",
      "/opt/conda/envs/rubin/lib/python3.10/site-packages/rubin_sim/maf/slicers/baseSpatialSlicer.py:118: UserWarning: Warning:  Loading maps but cache on.Should probably set useCache=False in slicer.\n",
      "  warnings.warn(\n",
      "/opt/conda/envs/rubin/lib/python3.10/site-packages/rubin_sim/maf/slicers/baseSpatialSlicer.py:118: UserWarning: Warning:  Loading maps but cache on.Should probably set useCache=False in slicer.\n",
      "  warnings.warn(\n",
      "/opt/conda/envs/rubin/lib/python3.10/site-packages/rubin_sim/maf/slicers/baseSpatialSlicer.py:118: UserWarning: Warning:  Loading maps but cache on.Should probably set useCache=False in slicer.\n",
      "  warnings.warn(\n"
     ]
    },
    {
     "name": "stdout",
     "output_type": "stream",
     "text": [
      "Runing metrics on Opsim: ddf_season_length_slf0.30_v2.1_10yrs!\n",
      "*****************************************\n",
      "Healpix slicer using NSIDE=128, approximate resolution 27.483891 arcminutes\n",
      "Healpix slicer using NSIDE=128, approximate resolution 27.483891 arcminutes\n",
      "Healpix slicer using NSIDE=128, approximate resolution 27.483891 arcminutes\n",
      "Healpix slicer using NSIDE=128, approximate resolution 27.483891 arcminutes\n",
      "Healpix slicer using NSIDE=128, approximate resolution 27.483891 arcminutes\n"
     ]
    },
    {
     "name": "stderr",
     "output_type": "stream",
     "text": [
      "/opt/conda/envs/rubin/lib/python3.10/site-packages/rubin_sim/maf/slicers/baseSpatialSlicer.py:118: UserWarning: Warning:  Loading maps but cache on.Should probably set useCache=False in slicer.\n",
      "  warnings.warn(\n",
      "/opt/conda/envs/rubin/lib/python3.10/site-packages/rubin_sim/maf/slicers/baseSpatialSlicer.py:118: UserWarning: Warning:  Loading maps but cache on.Should probably set useCache=False in slicer.\n",
      "  warnings.warn(\n",
      "/opt/conda/envs/rubin/lib/python3.10/site-packages/rubin_sim/maf/slicers/baseSpatialSlicer.py:118: UserWarning: Warning:  Loading maps but cache on.Should probably set useCache=False in slicer.\n",
      "  warnings.warn(\n",
      "/opt/conda/envs/rubin/lib/python3.10/site-packages/rubin_sim/maf/slicers/baseSpatialSlicer.py:118: UserWarning: Warning:  Loading maps but cache on.Should probably set useCache=False in slicer.\n",
      "  warnings.warn(\n",
      "/opt/conda/envs/rubin/lib/python3.10/site-packages/rubin_sim/maf/slicers/baseSpatialSlicer.py:118: UserWarning: Warning:  Loading maps but cache on.Should probably set useCache=False in slicer.\n",
      "  warnings.warn(\n",
      "/opt/conda/envs/rubin/lib/python3.10/site-packages/rubin_sim/maf/slicers/baseSpatialSlicer.py:118: UserWarning: Warning:  Loading maps but cache on.Should probably set useCache=False in slicer.\n",
      "  warnings.warn(\n"
     ]
    },
    {
     "name": "stdout",
     "output_type": "stream",
     "text": [
      "Runing metrics on Opsim: ddf_season_length_slf0.35_v2.1_10yrs!\n",
      "*****************************************\n",
      "Healpix slicer using NSIDE=128, approximate resolution 27.483891 arcminutes\n",
      "Healpix slicer using NSIDE=128, approximate resolution 27.483891 arcminutes\n",
      "Healpix slicer using NSIDE=128, approximate resolution 27.483891 arcminutes\n",
      "Healpix slicer using NSIDE=128, approximate resolution 27.483891 arcminutes\n",
      "Healpix slicer using NSIDE=128, approximate resolution 27.483891 arcminutes\n"
     ]
    },
    {
     "name": "stderr",
     "output_type": "stream",
     "text": [
      "/opt/conda/envs/rubin/lib/python3.10/site-packages/rubin_sim/maf/slicers/baseSpatialSlicer.py:118: UserWarning: Warning:  Loading maps but cache on.Should probably set useCache=False in slicer.\n",
      "  warnings.warn(\n",
      "/opt/conda/envs/rubin/lib/python3.10/site-packages/rubin_sim/maf/slicers/baseSpatialSlicer.py:118: UserWarning: Warning:  Loading maps but cache on.Should probably set useCache=False in slicer.\n",
      "  warnings.warn(\n",
      "/opt/conda/envs/rubin/lib/python3.10/site-packages/rubin_sim/maf/slicers/baseSpatialSlicer.py:118: UserWarning: Warning:  Loading maps but cache on.Should probably set useCache=False in slicer.\n",
      "  warnings.warn(\n",
      "/opt/conda/envs/rubin/lib/python3.10/site-packages/rubin_sim/maf/slicers/baseSpatialSlicer.py:118: UserWarning: Warning:  Loading maps but cache on.Should probably set useCache=False in slicer.\n",
      "  warnings.warn(\n",
      "/opt/conda/envs/rubin/lib/python3.10/site-packages/rubin_sim/maf/slicers/baseSpatialSlicer.py:118: UserWarning: Warning:  Loading maps but cache on.Should probably set useCache=False in slicer.\n",
      "  warnings.warn(\n",
      "/opt/conda/envs/rubin/lib/python3.10/site-packages/rubin_sim/maf/slicers/baseSpatialSlicer.py:118: UserWarning: Warning:  Loading maps but cache on.Should probably set useCache=False in slicer.\n",
      "  warnings.warn(\n"
     ]
    }
   ],
   "source": [
    "# metric name template\n",
    "metricNameTemp1 = 'sf_{}_{}_20'\n",
    "\n",
    "# custom sf bins\n",
    "nbin = 20\n",
    "mybins = np.logspace(0, np.log10(3650), nbin+1)\n",
    "myweights = np.full(nbin, 1/nbin)\n",
    "summaryMetrics = [metrics.MedianMetric()]\n",
    "\n",
    "for run in ddf_runs:\n",
    "    print(f'Runing metrics on Opsim: {run}!')\n",
    "    print('*****************************************')\n",
    "    bdict1 = {}\n",
    "\n",
    "    for ddf in ddfFields:\n",
    "        # custom slicer\n",
    "        nside = 128\n",
    "        radius = 1.8\n",
    "        hp_mask = ddf_hp_mask(ddf, radius, nside)\n",
    "        slicer = slicers.HealpixSubsetSlicer(nside, np.where(hp_mask == 1)[0])\n",
    "        slicer.slicerName = 'HealpixSlicer'  # hack maf\n",
    "    \n",
    "        for band in 'ugrizy':\n",
    "            constraint = f'filter = \"{band}\"'\n",
    "            # sf uncert\n",
    "            sfuncert = SFUncertMetric(mag=agn_m5[band], \n",
    "                                      bins=mybins, weight=myweights, snr_cut=0, \n",
    "                                      metricName=metricNameTemp1.format(ddf, band))\n",
    "            bdict1[sfuncert.name] = metricBundles.MetricBundle(sfuncert, slicer,\n",
    "                                                               constraint)\n",
    "            # median m5\n",
    "            m5p50 = metrics.MedianMetric('fiveSigmaDepth', \n",
    "                                        metricName = f'm5Median_{ddf}_{band}')         \n",
    "            m5p50mb = metricBundles.MetricBundle(m5p50, slicer, constraint)\n",
    "            bdict1[m5p50.name] = m5p50mb\n",
    "            \n",
    "            # m5 sigma\n",
    "            m5rms = metrics.RobustRmsMetric('fiveSigmaDepth', \n",
    "                                             metricName = f'm5rms_{ddf}_{band}')\n",
    "            m5rmsmb = metricBundles.MetricBundle(m5rms, slicer, constraint)\n",
    "            bdict1[m5rms.name] = m5rmsmb\n",
    "            \n",
    "    for key in bdict1:\n",
    "        bdict1[key].setRunName(run)\n",
    "        bdict1[key].setSummaryMetrics(summaryMetrics)\n",
    "\n",
    "    gp = metricBundles.MetricBundleGroup(bdict1, opSimDbs[run], outDir=metricDataPath,\n",
    "                                         resultsDb=resultDbs[run], verbose=False)\n",
    "    gp.runAll()"
   ]
  },
  {
   "cell_type": "code",
   "execution_count": null,
   "id": "a8816bcf-ab6b-414a-83cc-c2f1ee23b440",
   "metadata": {},
   "outputs": [],
   "source": []
  }
 ],
 "metadata": {
  "kernelspec": {
   "display_name": "rubin",
   "language": "python",
   "name": "rubin"
  },
  "language_info": {
   "codemirror_mode": {
    "name": "ipython",
    "version": 3
   },
   "file_extension": ".py",
   "mimetype": "text/x-python",
   "name": "python",
   "nbconvert_exporter": "python",
   "pygments_lexer": "ipython3",
   "version": "3.10.5"
  },
  "widgets": {
   "application/vnd.jupyter.widget-state+json": {
    "state": {},
    "version_major": 2,
    "version_minor": 0
   }
  }
 },
 "nbformat": 4,
 "nbformat_minor": 5
}
