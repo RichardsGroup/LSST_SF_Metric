{
 "cells": [
  {
   "cell_type": "markdown",
   "id": "45bee616-b402-48cc-ba27-65d70d7edc53",
   "metadata": {},
   "source": [
    "## Re-examine SF_Uncert metric in DDF regarding season length"
   ]
  },
  {
   "cell_type": "code",
   "execution_count": 1,
   "id": "408fbdb4-71ff-410f-9f71-d0bba535ee33",
   "metadata": {},
   "outputs": [],
   "source": [
    "# development code\n",
    "%load_ext autoreload\n",
    "%autoreload 2"
   ]
  },
  {
   "cell_type": "code",
   "execution_count": 2,
   "id": "9e1da528-09d5-4bd9-a037-9aed201e0be7",
   "metadata": {},
   "outputs": [],
   "source": [
    "%matplotlib inline\n",
    "import matplotlib.pyplot as plt\n",
    "import matplotlib as mpl\n",
    "import pandas as pd\n",
    "import numpy as np\n",
    "import glob\n",
    "import os, sys"
   ]
  },
  {
   "cell_type": "code",
   "execution_count": 3,
   "id": "11633567-82f2-44cc-b0d5-92b599061054",
   "metadata": {},
   "outputs": [],
   "source": [
    "# add the path the scripts\n",
    "sys.path.insert(0, \"../scripts/\")"
   ]
  },
  {
   "cell_type": "code",
   "execution_count": 4,
   "id": "582b2a2f-efe8-4d59-8116-9f3313b05732",
   "metadata": {},
   "outputs": [
    {
     "data": {
      "text/plain": [
       "'0.10.1.dev64+gc32f68b'"
      ]
     },
     "execution_count": 4,
     "metadata": {},
     "output_type": "execute_result"
    }
   ],
   "source": [
    "# import rubin_sim python modules\n",
    "import rubin_sim.maf.db as db\n",
    "import rubin_sim.maf.metrics as metrics\n",
    "import rubin_sim.maf.slicers as slicers\n",
    "import rubin_sim.maf.stackers as stackers\n",
    "import rubin_sim.maf.plots as plots\n",
    "import rubin_sim.maf.metricBundles as metricBundles\n",
    "import rubin_sim.maf as maf\n",
    "from rubin_sim.maf.utils import m52snr\n",
    "\n",
    "# footprint utils\n",
    "from rubin_sim.scheduler.utils import footprints\n",
    "\n",
    "# import convenience functions\n",
    "from opsimUtils import *\n",
    "\n",
    "# import custom stacker/metrics from script\n",
    "from agnstructure import *\n",
    "\n",
    "# print version\n",
    "import rubin_sim\n",
    "\n",
    "rubin_sim.__version__"
   ]
  },
  {
   "cell_type": "markdown",
   "id": "94c52c9b-b5cc-409a-9451-94f7bdfd5ae6",
   "metadata": {},
   "source": [
    "### 1. Pull rolling opsims to evaluate "
   ]
  },
  {
   "cell_type": "code",
   "execution_count": 5,
   "id": "5b39ecfb-afca-4b07-9b89-cad6cfeff790",
   "metadata": {},
   "outputs": [
    {
     "data": {
      "text/plain": [
       "array(['baseline_v2.1_10yrs', 'ddf_season_length_slf0.10_v2.1_10yrs',\n",
       "       'ddf_season_length_slf0.15_v2.1_10yrs',\n",
       "       'ddf_season_length_slf0.20_v2.1_10yrs',\n",
       "       'ddf_season_length_slf0.25_v2.1_10yrs',\n",
       "       'ddf_season_length_slf0.30_v2.1_10yrs',\n",
       "       'ddf_season_length_slf0.35_v2.1_10yrs'], dtype=object)"
      ]
     },
     "execution_count": 7,
     "metadata": {},
     "output_type": "execute_result"
    }
   ],
   "source": [
    "families = maf.archive.get_family_descriptions()\n",
    "family_list = families.index.values\n",
    "\n",
    "# pull roll runs\n",
    "fam = [\"ddf season length\"]\n",
    "baseline_run = families.loc[\"ddf season length\", \"reference\"]\n",
    "roll_runs = np.concatenate([[baseline_run], families.explode(\"run\").loc[fam, \"run\"]])\n",
    "roll_runs"
   ]
  },
  {
   "cell_type": "markdown",
   "id": "aa7594e9-7f9d-4a41-85ef-5270f89565b7",
   "metadata": {},
   "source": [
    "### 2. Test SF Uncert on the baseline"
   ]
  },
  {
   "cell_type": "code",
   "execution_count": 8,
   "id": "92bf1e63-533d-48c4-9180-c9813079eefa",
   "metadata": {},
   "outputs": [],
   "source": [
    "dbDir = rubin_sim.data.get_data_dir()\n",
    "outDir = \"/home/jovyan/mount/ResearchData/MAFOutput/Temp/ResultsDb\"\n",
    "metricDataPath = \"/home/jovyan/mount/ResearchData/MAFOutput/Temp/MetricData\"\n",
    "\n",
    "if not os.path.exists(os.path.abspath(outDir)):\n",
    "    os.makedirs(os.path.abspath(outDir))\n",
    "\n",
    "if not os.path.exists(os.path.abspath(metricDataPath)):\n",
    "    os.makedirs(os.path.abspath(metricDataPath))"
   ]
  },
  {
   "cell_type": "code",
   "execution_count": 9,
   "id": "080b7d14-e64c-4c13-a129-27934adf9f5c",
   "metadata": {},
   "outputs": [],
   "source": [
    "# create dict for storing dbs\n",
    "opSimDbs, resultDbs = connect_dbs(dbDir, outDir, dbRuns=roll_runs)"
   ]
  },
  {
   "cell_type": "code",
   "execution_count": 12,
   "id": "f945b7d1-f83e-4328-b27e-12aa66002bbc",
   "metadata": {},
   "outputs": [],
   "source": [
    "ddfFields = ['COSMOS', 'XMM-LSS', 'ELAISS1', 'ECDFS', 'EDFS']"
   ]
  },
  {
   "cell_type": "code",
   "execution_count": 66,
   "id": "9ac826c2-c6c4-42cc-887f-b65bcc37df98",
   "metadata": {},
   "outputs": [
    {
     "name": "stdout",
     "output_type": "stream",
     "text": [
      "Healpix slicer using NSIDE=128, approximate resolution 27.483891 arcminutes\n"
     ]
    }
   ],
   "source": [
    "# custom sf bins\n",
    "nbin = 20\n",
    "mybins = np.logspace(0, np.log10(3650), nbin+1)\n",
    "myweights = np.full(nbin, 1/nbin)\n",
    "\n",
    "# metric + constraint\n",
    "sfuncert = SFUncertMetric(mag=23.94, \n",
    "                          bins=mybins, weight=myweights, \n",
    "                          snr_cut=0)\n",
    "constraint = 'filter = \"g\"'\n",
    "\n",
    "# custom slicer\n",
    "nside = 128\n",
    "radius = 1.8\n",
    "hp_mask = ddf_hp_mask(ddfFields[0], radius, nside)\n",
    "slicer = slicers.HealpixSubsetSlicer(nside, np.where(hp_mask == 1)[0])\n",
    "slicer.slicerName = 'HealpixSlicer'  # hack maf\n",
    "\n",
    "# create bundle\n",
    "sfmb = metricBundles.MetricBundle(sfuncert, slicer, constraint)"
   ]
  },
  {
   "cell_type": "code",
   "execution_count": 67,
   "id": "33768d64-936e-48e7-89d0-43f84cfb3a79",
   "metadata": {},
   "outputs": [],
   "source": [
    "bdict = {0: sfmb}"
   ]
  },
  {
   "cell_type": "code",
   "execution_count": 71,
   "id": "03d57178-6e8b-48d1-be83-f644a743cebb",
   "metadata": {},
   "outputs": [
    {
     "name": "stdout",
     "output_type": "stream",
     "text": [
      "Querying table None with constraint filter = \"g\" for columns ['fiveSigmaDepth', 'rotSkyPos', 'fieldDec', 'filter', 'observationStartMJD', 'fieldRA']\n",
      "Found 229466 visits\n",
      "Running:  [0]\n"
     ]
    },
    {
     "name": "stderr",
     "output_type": "stream",
     "text": [
      "/opt/conda/envs/rubin/lib/python3.10/site-packages/rubin_sim/maf/slicers/baseSpatialSlicer.py:118: UserWarning: Warning:  Loading maps but cache on.Should probably set useCache=False in slicer.\n",
      "  warnings.warn(\n"
     ]
    },
    {
     "name": "stdout",
     "output_type": "stream",
     "text": [
      "Completed metric generation.\n",
      "Running reduce methods.\n",
      "Running summary statistics.\n",
      "Completed.\n"
     ]
    }
   ],
   "source": [
    "run = 'ddf_season_length_slf0.35_v2.1_10yrs'\n",
    "gp = metricBundles.MetricBundleGroup(bdict, opSimDbs[run], \n",
    "                                     outDir=outDir, \n",
    "                                     resultsDb=resultDbs[run])\n",
    "gp.runAll()"
   ]
  },
  {
   "cell_type": "code",
   "execution_count": 72,
   "id": "eea983cc-38a5-4e41-9b6e-bdaa5380980c",
   "metadata": {},
   "outputs": [],
   "source": [
    "mask = sfmb.metricValues.mask\n",
    "data = sfmb.metricValues.data[~mask]"
   ]
  },
  {
   "cell_type": "code",
   "execution_count": 70,
   "id": "e59ebed8-5a91-462a-86b5-ef50cd467035",
   "metadata": {},
   "outputs": [
    {
     "data": {
      "image/png": "[encoded data removed]",
      "text/plain": [
       "<Figure size 640x480 with 1 Axes>"
      ]
     },
     "metadata": {},
     "output_type": "display_data"
    }
   ],
   "source": [
    "_ = plt.hist(np.log10(data), bins='fd', density=True)"
   ]
  },
  {
   "cell_type": "code",
   "execution_count": 73,
   "id": "4adc3455-59b6-40ff-be46-7b61b80ed372",
   "metadata": {},
   "outputs": [
    {
     "data": {
      "image/png": "[encoded data removed]",
      "text/plain": [
       "<Figure size 640x480 with 1 Axes>"
      ]
     },
     "metadata": {},
     "output_type": "display_data"
    }
   ],
   "source": [
    "_ = plt.hist(np.log10(data), bins='fd', density=True)"
   ]
  },
  {
   "cell_type": "markdown",
   "id": "3b91a21d-2f5f-46f4-9b2d-5c232c9a40b1",
   "metadata": {},
   "source": [
    "### 3. Test LogTgaps Version\n",
    "Just return number of paired obs in bins "
   ]
  },
  {
   "cell_type": "code",
   "execution_count": 56,
   "id": "c38e3524-efa6-4050-b79f-1b666ca540e5",
   "metadata": {},
   "outputs": [],
   "source": [
    "# metric + constraint\n",
    "nbin = 20\n",
    "mybins = np.logspace(0, np.log10(3650), nbin+1)\n",
    "myweights = np.full(nbin, 1/nbin)\n",
    "sfuncertdev = SFUncertMetricDev(mag=23.95, \n",
    "                                bins=mybins, weight=myweights, \n",
    "                                snr_cut=0)\n",
    "\n",
    "# create bundle\n",
    "sfmbdev = metricBundles.MetricBundle(sfuncertdev, slicer, constraint)"
   ]
  },
  {
   "cell_type": "code",
   "execution_count": 57,
   "id": "6c384b24-354c-402b-a01b-ce0bb70d6f7f",
   "metadata": {},
   "outputs": [],
   "source": [
    "bdictdev = {0: sfmbdev}"
   ]
  },
  {
   "cell_type": "code",
   "execution_count": 62,
   "id": "e932bb2c-014d-4cdb-b9c7-303a09ddc1ee",
   "metadata": {},
   "outputs": [
    {
     "name": "stdout",
     "output_type": "stream",
     "text": [
      "Querying table None with constraint filter = \"g\" for columns ['fiveSigmaDepth', 'rotSkyPos', 'fieldDec', 'filter', 'observationStartMJD', 'fieldRA']\n",
      "Found 229466 visits\n",
      "Running:  [0]\n"
     ]
    },
    {
     "name": "stderr",
     "output_type": "stream",
     "text": [
      "/opt/conda/envs/rubin/lib/python3.10/site-packages/rubin_sim/maf/slicers/baseSpatialSlicer.py:118: UserWarning: Warning:  Loading maps but cache on.Should probably set useCache=False in slicer.\n",
      "  warnings.warn(\n"
     ]
    },
    {
     "name": "stdout",
     "output_type": "stream",
     "text": [
      "Completed metric generation.\n",
      "Running reduce methods.\n",
      "Running summary statistics.\n",
      "Completed.\n"
     ]
    }
   ],
   "source": [
    "run = 'ddf_season_length_slf0.35_v2.1_10yrs'\n",
    "gpdev = metricBundles.MetricBundleGroup(bdictdev, opSimDbs[run], \n",
    "                                        outDir=outDir, \n",
    "                                        resultsDb=resultDbs[run])\n",
    "gpdev.runAll()"
   ]
  },
  {
   "cell_type": "code",
   "execution_count": 63,
   "id": "4c7294e7-ed14-4dc5-9620-a3ff479ecbfc",
   "metadata": {},
   "outputs": [],
   "source": [
    "maskdev = sfmbdev.metricValues.mask\n",
    "datadev = sfmbdev.metricValues.data[~maskdev]"
   ]
  },
  {
   "cell_type": "code",
   "execution_count": 64,
   "id": "a1ebcb96-f475-4323-9076-be92ee4535ed",
   "metadata": {},
   "outputs": [],
   "source": [
    "nobs_md = np.median(np.vstack(datadev), axis=0)"
   ]
  },
  {
   "cell_type": "code",
   "execution_count": 65,
   "id": "f53a8979-b757-4bbc-a873-b38b40af652f",
   "metadata": {},
   "outputs": [
    {
     "data": {
      "image/png": "[encoded data removed]",
      "text/plain": [
       "<Figure size 640x480 with 1 Axes>"
      ]
     },
     "metadata": {},
     "output_type": "display_data"
    }
   ],
   "source": [
    "plt.stairs(np.log10(nobs_md), np.log10(mybins))\n",
    "plt.xlabel('')\n",
    "plt.yscale('log')"
   ]
  },
  {
   "cell_type": "code",
   "execution_count": 61,
   "id": "8794235f-5f2f-4e4c-931d-2219c7106694",
   "metadata": {},
   "outputs": [
    {
     "data": {
      "image/png": "[encoded data removed]",
      "text/plain": [
       "<Figure size 640x480 with 1 Axes>"
      ]
     },
     "metadata": {},
     "output_type": "display_data"
    }
   ],
   "source": [
    "plt.stairs(np.log10(nobs_md), np.log10(mybins))\n",
    "plt.xlabel('')\n",
    "plt.yscale('log')"
   ]
  },
  {
   "cell_type": "code",
   "execution_count": 76,
   "id": "3a894f63-1020-4adb-8c0b-2c7d5c03af17",
   "metadata": {},
   "outputs": [
    {
     "data": {
      "text/plain": [
       "<matplotlib.patches.StepPatch at 0x7f10f4db2470>"
      ]
     },
     "execution_count": 76,
     "metadata": {},
     "output_type": "execute_result"
    },
    {
     "data": {
      "image/png": "[encoded data removed]",
      "text/plain": [
       "<Figure size 640x480 with 1 Axes>"
      ]
     },
     "metadata": {},
     "output_type": "display_data"
    }
   ],
   "source": [
    "plt.stairs(np.log10(nobs_md), np.log10(mybins))"
   ]
  },
  {
   "cell_type": "code",
   "execution_count": 34,
   "id": "6ef31ad9-9c28-4ff9-a072-2fc3b9f2f424",
   "metadata": {},
   "outputs": [
    {
     "data": {
      "text/plain": [
       "199.52623149688787"
      ]
     },
     "execution_count": 34,
     "metadata": {},
     "output_type": "execute_result"
    }
   ],
   "source": [
    "10**2.3"
   ]
  },
  {
   "cell_type": "code",
   "execution_count": null,
   "id": "36256ec4-a879-4396-9a22-a8a30b241cc6",
   "metadata": {},
   "outputs": [],
   "source": []
  }
 ],
 "metadata": {
  "kernelspec": {
   "display_name": "rubin",
   "language": "python",
   "name": "rubin"
  },
  "language_info": {
   "codemirror_mode": {
    "name": "ipython",
    "version": 3
   },
   "file_extension": ".py",
   "mimetype": "text/x-python",
   "name": "python",
   "nbconvert_exporter": "python",
   "pygments_lexer": "ipython3",
   "version": "3.10.5"
  },
  "widgets": {
   "application/vnd.jupyter.widget-state+json": {
    "state": {},
    "version_major": 2,
    "version_minor": 0
   }
  }
 },
 "nbformat": 4,
 "nbformat_minor": 5
}
