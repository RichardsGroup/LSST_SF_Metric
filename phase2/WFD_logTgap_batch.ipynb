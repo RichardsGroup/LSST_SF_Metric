{
 "cells": [
  {
   "cell_type": "markdown",
   "id": "45bee616-b402-48cc-ba27-65d70d7edc53",
   "metadata": {},
   "source": [
    "## Re-examine SF_Uncert metric in WFD regarding rolling strategy "
   ]
  },
  {
   "cell_type": "code",
   "execution_count": 1,
   "id": "408fbdb4-71ff-410f-9f71-d0bba535ee33",
   "metadata": {},
   "outputs": [],
   "source": [
    "# development code\n",
    "%load_ext autoreload\n",
    "%autoreload 2"
   ]
  },
  {
   "cell_type": "code",
   "execution_count": 2,
   "id": "9e1da528-09d5-4bd9-a037-9aed201e0be7",
   "metadata": {},
   "outputs": [],
   "source": [
    "%matplotlib inline\n",
    "import matplotlib.pyplot as plt\n",
    "import matplotlib as mpl\n",
    "import pandas as pd\n",
    "import numpy as np\n",
    "import glob\n",
    "import os, sys\n",
    "import itertools"
   ]
  },
  {
   "cell_type": "code",
   "execution_count": 3,
   "id": "11633567-82f2-44cc-b0d5-92b599061054",
   "metadata": {},
   "outputs": [],
   "source": [
    "# add the path the scripts\n",
    "sys.path.insert(0, \"../scripts/\")"
   ]
  },
  {
   "cell_type": "code",
   "execution_count": 4,
   "id": "582b2a2f-efe8-4d59-8116-9f3313b05732",
   "metadata": {},
   "outputs": [
    {
     "data": {
      "text/plain": [
       "'0.10.1.dev64+gc32f68b'"
      ]
     },
     "execution_count": 4,
     "metadata": {},
     "output_type": "execute_result"
    }
   ],
   "source": [
    "# import rubin_sim python modules\n",
    "import rubin_sim.maf.db as db\n",
    "import rubin_sim.maf.metrics as metrics\n",
    "import rubin_sim.maf.slicers as slicers\n",
    "import rubin_sim.maf.stackers as stackers\n",
    "import rubin_sim.maf.plots as plots\n",
    "import rubin_sim.maf.metricBundles as metricBundles\n",
    "import rubin_sim.maf as maf\n",
    "from rubin_sim.maf.utils import m52snr\n",
    "\n",
    "# footprint utils\n",
    "from rubin_sim.scheduler.utils import footprints\n",
    "\n",
    "# import convenience functions\n",
    "from opsimUtils import *\n",
    "\n",
    "# import custom stacker/metrics from script\n",
    "from agnstructure import *\n",
    "\n",
    "# print version\n",
    "import rubin_sim\n",
    "\n",
    "rubin_sim.__version__"
   ]
  },
  {
   "cell_type": "markdown",
   "id": "94c52c9b-b5cc-409a-9451-94f7bdfd5ae6",
   "metadata": {},
   "source": [
    "### 1. Pull rolling opsims to evaluate "
   ]
  },
  {
   "cell_type": "code",
   "execution_count": 5,
   "id": "5b39ecfb-afca-4b07-9b89-cad6cfeff790",
   "metadata": {},
   "outputs": [
    {
     "data": {
      "text/plain": [
       "array(['baseline_v2.0_10yrs', 'noroll_v2.0_10yrs',\n",
       "       'rolling_ns2_rw0.5_v2.0_10yrs', 'rolling_ns3_rw0.5_v2.0_10yrs',\n",
       "       'rolling_ns2_rw0.9_v2.0_10yrs', 'rolling_ns3_rw0.9_v2.0_10yrs',\n",
       "       'rolling_bulge_ns2_rw0.5_v2.0_10yrs',\n",
       "       'rolling_bulge_ns2_rw0.8_v2.0_10yrs',\n",
       "       'rolling_bulge_ns2_rw0.9_v2.0_10yrs',\n",
       "       'rolling_all_sky_ns2_rw0.9_v2.0_10yrs', 'roll_early_v2.0_10yrs',\n",
       "       'six_rolling_ns6_rw0.5_v2.0_10yrs',\n",
       "       'six_rolling_ns6_rw0.9_v2.0_10yrs', 'rolling_bulge_6_v2.0_10yrs'],\n",
       "      dtype=object)"
      ]
     },
     "execution_count": 5,
     "metadata": {},
     "output_type": "execute_result"
    }
   ],
   "source": [
    "families = maf.archive.get_family_descriptions()\n",
    "family_list = families.index.values\n",
    "\n",
    "# pull roll runs\n",
    "fam = [\"rolling\"]\n",
    "baseline_run = families.loc[\"rolling\", \"reference\"]\n",
    "roll_runs = np.concatenate([[baseline_run], families.explode(\"run\").loc[fam, \"run\"]])\n",
    "roll_runs"
   ]
  },
  {
   "cell_type": "markdown",
   "id": "aa7594e9-7f9d-4a41-85ef-5270f89565b7",
   "metadata": {},
   "source": [
    "### 2. Run different combos of configs"
   ]
  },
  {
   "cell_type": "code",
   "execution_count": 6,
   "id": "92bf1e63-533d-48c4-9180-c9813079eefa",
   "metadata": {},
   "outputs": [],
   "source": [
    "dbDir = rubin_sim.data.get_data_dir()\n",
    "outDir = \"/home/jovyan/mount/ResearchData/MAFOutput/wfd_tgap/ResultsDb\"\n",
    "metricDataPath = \"/home/jovyan/mount/ResearchData/MAFOutput/wfd_tgap/MetricData\"\n",
    "\n",
    "if not os.path.exists(os.path.abspath(outDir)):\n",
    "    os.makedirs(os.path.abspath(outDir))\n",
    "\n",
    "if not os.path.exists(os.path.abspath(metricDataPath)):\n",
    "    os.makedirs(os.path.abspath(metricDataPath))"
   ]
  },
  {
   "cell_type": "code",
   "execution_count": 7,
   "id": "080b7d14-e64c-4c13-a129-27934adf9f5c",
   "metadata": {},
   "outputs": [],
   "source": [
    "# create dict for storing dbs\n",
    "opSimDbs, resultDbs = connect_dbs(dbDir, outDir, dbRuns=roll_runs)"
   ]
  },
  {
   "cell_type": "code",
   "execution_count": 8,
   "id": "73a9b474-1a91-45cf-ad94-ca2961166b23",
   "metadata": {},
   "outputs": [],
   "source": [
    "# define combos of configs\n",
    "nbins = [10, 15]\n",
    "snr_cuts = [0, 3, 5]\n",
    "combos = list(itertools.product(nbins, snr_cuts))"
   ]
  },
  {
   "cell_type": "code",
   "execution_count": 9,
   "id": "b2d12877-da85-414c-b4b9-d49c12090c33",
   "metadata": {},
   "outputs": [],
   "source": [
    "agn_m5 = {\"u\": 22.89, \"g\": 23.94, \"r\": 23.5, \"i\": 22.93, \"z\": 22.28, \"y\": 21.5}"
   ]
  },
  {
   "cell_type": "markdown",
   "id": "2ff5cc05-b1d7-4036-989c-2ab438cd0a0a",
   "metadata": {},
   "source": [
    "#### 2.1 Use big_dust healpix cut"
   ]
  },
  {
   "cell_type": "code",
   "execution_count": null,
   "id": "3dd9408b-d303-4ccc-96d9-f7758c16bc12",
   "metadata": {},
   "outputs": [
    {
     "name": "stdout",
     "output_type": "stream",
     "text": [
      "Healpix slicer using NSIDE=64, approximate resolution 54.967783 arcminutes\n",
      "Runing metrics on Opsim: baseline_v2.0_10yrs!\n",
      "*****************************************\n"
     ]
    },
    {
     "name": "stderr",
     "output_type": "stream",
     "text": [
      "/opt/conda/envs/rubin/lib/python3.10/site-packages/rubin_sim/maf/maps/dustMap.py:42: UserWarning: Slicer value of nside 64 different from map value 128, using slicer value\n",
      "  warnings.warn(\n",
      "/opt/conda/envs/rubin/lib/python3.10/site-packages/rubin_sim/maf/maps/dustMap.py:42: UserWarning: Slicer value of nside 64 different from map value 128, using slicer value\n",
      "  warnings.warn(\n",
      "/opt/conda/envs/rubin/lib/python3.10/site-packages/rubin_sim/maf/maps/dustMap.py:42: UserWarning: Slicer value of nside 64 different from map value 128, using slicer value\n",
      "  warnings.warn(\n",
      "/opt/conda/envs/rubin/lib/python3.10/site-packages/rubin_sim/maf/maps/dustMap.py:42: UserWarning: Slicer value of nside 64 different from map value 128, using slicer value\n",
      "  warnings.warn(\n",
      "/opt/conda/envs/rubin/lib/python3.10/site-packages/rubin_sim/maf/maps/dustMap.py:42: UserWarning: Slicer value of nside 64 different from map value 128, using slicer value\n",
      "  warnings.warn(\n",
      "/opt/conda/envs/rubin/lib/python3.10/site-packages/rubin_sim/maf/maps/dustMap.py:42: UserWarning: Slicer value of nside 64 different from map value 128, using slicer value\n",
      "  warnings.warn(\n"
     ]
    },
    {
     "name": "stdout",
     "output_type": "stream",
     "text": [
      "Runing metrics on Opsim: noroll_v2.0_10yrs!\n",
      "*****************************************\n"
     ]
    },
    {
     "name": "stderr",
     "output_type": "stream",
     "text": [
      "/opt/conda/envs/rubin/lib/python3.10/site-packages/rubin_sim/maf/maps/dustMap.py:42: UserWarning: Slicer value of nside 64 different from map value 128, using slicer value\n",
      "  warnings.warn(\n",
      "/opt/conda/envs/rubin/lib/python3.10/site-packages/rubin_sim/maf/maps/dustMap.py:42: UserWarning: Slicer value of nside 64 different from map value 128, using slicer value\n",
      "  warnings.warn(\n",
      "/opt/conda/envs/rubin/lib/python3.10/site-packages/rubin_sim/maf/maps/dustMap.py:42: UserWarning: Slicer value of nside 64 different from map value 128, using slicer value\n",
      "  warnings.warn(\n",
      "/opt/conda/envs/rubin/lib/python3.10/site-packages/rubin_sim/maf/maps/dustMap.py:42: UserWarning: Slicer value of nside 64 different from map value 128, using slicer value\n",
      "  warnings.warn(\n",
      "/opt/conda/envs/rubin/lib/python3.10/site-packages/rubin_sim/maf/maps/dustMap.py:42: UserWarning: Slicer value of nside 64 different from map value 128, using slicer value\n",
      "  warnings.warn(\n",
      "/opt/conda/envs/rubin/lib/python3.10/site-packages/rubin_sim/maf/maps/dustMap.py:42: UserWarning: Slicer value of nside 64 different from map value 128, using slicer value\n",
      "  warnings.warn(\n"
     ]
    },
    {
     "name": "stdout",
     "output_type": "stream",
     "text": [
      "Runing metrics on Opsim: rolling_ns2_rw0.5_v2.0_10yrs!\n",
      "*****************************************\n"
     ]
    },
    {
     "name": "stderr",
     "output_type": "stream",
     "text": [
      "/opt/conda/envs/rubin/lib/python3.10/site-packages/rubin_sim/maf/maps/dustMap.py:42: UserWarning: Slicer value of nside 64 different from map value 128, using slicer value\n",
      "  warnings.warn(\n",
      "/opt/conda/envs/rubin/lib/python3.10/site-packages/rubin_sim/maf/maps/dustMap.py:42: UserWarning: Slicer value of nside 64 different from map value 128, using slicer value\n",
      "  warnings.warn(\n",
      "/opt/conda/envs/rubin/lib/python3.10/site-packages/rubin_sim/maf/maps/dustMap.py:42: UserWarning: Slicer value of nside 64 different from map value 128, using slicer value\n",
      "  warnings.warn(\n",
      "/opt/conda/envs/rubin/lib/python3.10/site-packages/rubin_sim/maf/maps/dustMap.py:42: UserWarning: Slicer value of nside 64 different from map value 128, using slicer value\n",
      "  warnings.warn(\n",
      "/opt/conda/envs/rubin/lib/python3.10/site-packages/rubin_sim/maf/maps/dustMap.py:42: UserWarning: Slicer value of nside 64 different from map value 128, using slicer value\n",
      "  warnings.warn(\n",
      "/opt/conda/envs/rubin/lib/python3.10/site-packages/rubin_sim/maf/maps/dustMap.py:42: UserWarning: Slicer value of nside 64 different from map value 128, using slicer value\n",
      "  warnings.warn(\n"
     ]
    },
    {
     "name": "stdout",
     "output_type": "stream",
     "text": [
      "Runing metrics on Opsim: rolling_ns3_rw0.5_v2.0_10yrs!\n",
      "*****************************************\n"
     ]
    },
    {
     "name": "stderr",
     "output_type": "stream",
     "text": [
      "/opt/conda/envs/rubin/lib/python3.10/site-packages/rubin_sim/maf/maps/dustMap.py:42: UserWarning: Slicer value of nside 64 different from map value 128, using slicer value\n",
      "  warnings.warn(\n",
      "/opt/conda/envs/rubin/lib/python3.10/site-packages/rubin_sim/maf/maps/dustMap.py:42: UserWarning: Slicer value of nside 64 different from map value 128, using slicer value\n",
      "  warnings.warn(\n",
      "/opt/conda/envs/rubin/lib/python3.10/site-packages/rubin_sim/maf/maps/dustMap.py:42: UserWarning: Slicer value of nside 64 different from map value 128, using slicer value\n",
      "  warnings.warn(\n"
     ]
    }
   ],
   "source": [
    "# metric name template\n",
    "metricNameTemp1 = 'logTgapDust_{}_{}_{}'\n",
    "bdict1 = {}\n",
    "\n",
    "# custom slicer\n",
    "nside = 64\n",
    "wfd_bigdust = footprints.WFD_no_dust_healpixels(nside, dec_max=12.25, dec_min=-72.5, \n",
    "                                                dust_limit=0.199)\n",
    "wfd_slicer = slicers.HealpixSubsetSlicer(nside, np.where(wfd_bigdust==1)[0], \n",
    "                                         useCache=False)\n",
    "wfd_slicer.slicerName = 'HealpixSlicer'  # hack maf\n",
    "\n",
    "\n",
    "for run in roll_runs:\n",
    "    print(f'Runing metrics on Opsim: {run}!')\n",
    "    print('*****************************************')\n",
    "    bdict1 = {}\n",
    "\n",
    "    # loop through band and config combos\n",
    "    for band in 'ugrizy':\n",
    "        constraint = f'filter = \"{band}\"' + ' and note not like \"DD%\"'\n",
    "        for combo in combos:\n",
    "            nbin, snr_cut = combo\n",
    "            metricName = metricNameTemp1.format(band, nbin, snr_cut)\n",
    "\n",
    "            # metric\n",
    "            mybins = np.logspace(0, np.log10(3650), nbin+1)\n",
    "            myweights = np.full(nbin, 1/nbin)\n",
    "            sfuncertdev = SFUncertMetricDev(mag=agn_m5[band], \n",
    "                                            bins=mybins, weight=myweights, \n",
    "                                            snr_cut=0, metricName=metricName)\n",
    "            # add bundle\n",
    "            bdict1[metricName] = metricBundles.MetricBundle(sfuncertdev, wfd_slicer, \n",
    "                                                            constraint,\n",
    "                                                            runName = run)\n",
    "\n",
    "    gp = metricBundles.MetricBundleGroup(bdict1, opSimDbs[run], outDir=metricDataPath, \n",
    "                                         resultsDb=resultDbs[run], verbose=False)\n",
    "    gp.runAll()"
   ]
  },
  {
   "cell_type": "markdown",
   "id": "3b91a21d-2f5f-46f4-9b2d-5c232c9a40b1",
   "metadata": {},
   "source": [
    "#### 2.2 SNR cut"
   ]
  },
  {
   "cell_type": "code",
   "execution_count": null,
   "id": "13b6505a-3cf9-47af-81cb-5fef05c18177",
   "metadata": {},
   "outputs": [],
   "source": [
    "# metric name template\n",
    "metricNameTemp2 = 'logTgapSNR_{}_{}_{}'\n",
    "bdict2 = {}\n",
    "\n",
    "# custom slicer\n",
    "nside = 64\n",
    "all_slicer = slicers.HealpixSlicer(nside, useCache=False)\n",
    "\n",
    "for run in roll_runs:\n",
    "    print(f'Runing metrics on Opsim: {run}!')\n",
    "    print('*****************************************') \n",
    "    bdict2 = {}\n",
    "\n",
    "    # loop through band and config combos\n",
    "    for band in 'ugrizy':\n",
    "        constraint = f'filter = \"{band}\"' + ' and note not like \"DD%\"'\n",
    "        for combo in combos:\n",
    "            nbin, snr_cut = combo\n",
    "            metricName = metricNameTemp2.format(band, nbin, snr_cut)\n",
    "\n",
    "            # metric\n",
    "            mybins = np.logspace(0, np.log10(3650), nbin+1)\n",
    "            myweights = np.full(nbin, 1/nbin)\n",
    "            sfuncertdev = SFUncertMetricDev(mag=agn_m5[band],\n",
    "                                            bins=mybins, weight=myweights, \n",
    "                                            snr_cut=snr_cut)\n",
    "            # add bundle\n",
    "            bdict2[metricName] = metricBundles.MetricBundle(sfuncert, all_slicer, \n",
    "                                                            constraint,\n",
    "                                                            runName = run)\n",
    "\n",
    "    gp = metricBundles.MetricBundleGroup(bdict2, opSimDbs[run], outDir=metricDataPath, \n",
    "                                         resultsDb=resultDbs[run], verbose=False)\n",
    "    gp.runAll()"
   ]
  }
 ],
 "metadata": {
  "kernelspec": {
   "display_name": "rubin",
   "language": "python",
   "name": "rubin"
  },
  "language_info": {
   "codemirror_mode": {
    "name": "ipython",
    "version": 3
   },
   "file_extension": ".py",
   "mimetype": "text/x-python",
   "name": "python",
   "nbconvert_exporter": "python",
   "pygments_lexer": "ipython3",
   "version": "3.10.5"
  },
  "widgets": {
   "application/vnd.jupyter.widget-state+json": {
    "state": {},
    "version_major": 2,
    "version_minor": 0
   }
  }
 },
 "nbformat": 4,
 "nbformat_minor": 5
}
