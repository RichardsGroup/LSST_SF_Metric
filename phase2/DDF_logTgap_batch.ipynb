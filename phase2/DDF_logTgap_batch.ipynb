{
 "cells": [
  {
   "cell_type": "markdown",
   "id": "45bee616-b402-48cc-ba27-65d70d7edc53",
   "metadata": {},
   "source": [
    "## Re-examine SF_Uncert metric in DDF regarding season length (LogT batch)"
   ]
  },
  {
   "cell_type": "code",
   "execution_count": 1,
   "id": "408fbdb4-71ff-410f-9f71-d0bba535ee33",
   "metadata": {},
   "outputs": [],
   "source": [
    "# development code\n",
    "%load_ext autoreload\n",
    "%autoreload 2"
   ]
  },
  {
   "cell_type": "code",
   "execution_count": 2,
   "id": "9e1da528-09d5-4bd9-a037-9aed201e0be7",
   "metadata": {},
   "outputs": [],
   "source": [
    "%matplotlib inline\n",
    "import matplotlib.pyplot as plt\n",
    "import matplotlib as mpl\n",
    "import pandas as pd\n",
    "import numpy as np\n",
    "import glob\n",
    "import os, sys"
   ]
  },
  {
   "cell_type": "code",
   "execution_count": 3,
   "id": "11633567-82f2-44cc-b0d5-92b599061054",
   "metadata": {},
   "outputs": [],
   "source": [
    "# add the path the scripts\n",
    "sys.path.insert(0, \"../scripts/\")"
   ]
  },
  {
   "cell_type": "code",
   "execution_count": 4,
   "id": "582b2a2f-efe8-4d59-8116-9f3313b05732",
   "metadata": {},
   "outputs": [
    {
     "data": {
      "text/plain": [
       "'0.10.1.dev64+gc32f68b'"
      ]
     },
     "execution_count": 4,
     "metadata": {},
     "output_type": "execute_result"
    }
   ],
   "source": [
    "# import rubin_sim python modules\n",
    "import rubin_sim.maf.db as db\n",
    "import rubin_sim.maf.metrics as metrics\n",
    "import rubin_sim.maf.slicers as slicers\n",
    "import rubin_sim.maf.stackers as stackers\n",
    "import rubin_sim.maf.plots as plots\n",
    "import rubin_sim.maf.metricBundles as metricBundles\n",
    "import rubin_sim.maf as maf\n",
    "from rubin_sim.maf.utils import m52snr\n",
    "\n",
    "# footprint utils\n",
    "from rubin_sim.scheduler.utils import footprints\n",
    "\n",
    "# import convenience functions\n",
    "from opsimUtils import *\n",
    "\n",
    "# import custom stacker/metrics from script\n",
    "from agnstructure import *\n",
    "\n",
    "# print version\n",
    "import rubin_sim\n",
    "\n",
    "rubin_sim.__version__"
   ]
  },
  {
   "cell_type": "markdown",
   "id": "94c52c9b-b5cc-409a-9451-94f7bdfd5ae6",
   "metadata": {},
   "source": [
    "### 1. Pull rolling opsims to evaluate "
   ]
  },
  {
   "cell_type": "code",
   "execution_count": 5,
   "id": "5b39ecfb-afca-4b07-9b89-cad6cfeff790",
   "metadata": {},
   "outputs": [
    {
     "data": {
      "text/plain": [
       "array(['baseline_v2.1_10yrs', 'ddf_season_length_slf0.10_v2.1_10yrs',\n",
       "       'ddf_season_length_slf0.15_v2.1_10yrs',\n",
       "       'ddf_season_length_slf0.20_v2.1_10yrs',\n",
       "       'ddf_season_length_slf0.25_v2.1_10yrs',\n",
       "       'ddf_season_length_slf0.30_v2.1_10yrs',\n",
       "       'ddf_season_length_slf0.35_v2.1_10yrs'], dtype=object)"
      ]
     },
     "execution_count": 5,
     "metadata": {},
     "output_type": "execute_result"
    }
   ],
   "source": [
    "families = maf.archive.get_family_descriptions()\n",
    "family_list = families.index.values\n",
    "\n",
    "# pull roll runs\n",
    "fam = [\"ddf season length\"]\n",
    "baseline_run = families.loc[\"ddf season length\", \"reference\"]\n",
    "ddf_runs = np.concatenate([[baseline_run], families.explode(\"run\").loc[fam, \"run\"]])\n",
    "ddf_runs"
   ]
  },
  {
   "cell_type": "markdown",
   "id": "aa7594e9-7f9d-4a41-85ef-5270f89565b7",
   "metadata": {},
   "source": [
    "### 2. Test SF Uncert on the baseline"
   ]
  },
  {
   "cell_type": "code",
   "execution_count": 6,
   "id": "92bf1e63-533d-48c4-9180-c9813079eefa",
   "metadata": {},
   "outputs": [],
   "source": [
    "dbDir = rubin_sim.data.get_data_dir()\n",
    "outDir = \"/home/jovyan/mount/ResearchData/MAFOutput/ddf_tgap/ResultsDb\"\n",
    "metricDataPath = \"/home/jovyan/mount/ResearchData/MAFOutput/ddf_tgap/MetricData\"\n",
    "\n",
    "if not os.path.exists(os.path.abspath(outDir)):\n",
    "    os.makedirs(os.path.abspath(outDir))\n",
    "\n",
    "if not os.path.exists(os.path.abspath(metricDataPath)):\n",
    "    os.makedirs(os.path.abspath(metricDataPath))"
   ]
  },
  {
   "cell_type": "code",
   "execution_count": 7,
   "id": "080b7d14-e64c-4c13-a129-27934adf9f5c",
   "metadata": {},
   "outputs": [],
   "source": [
    "# create dict for storing dbs\n",
    "opSimDbs, resultDbs = connect_dbs(dbDir, outDir, dbRuns=ddf_runs)"
   ]
  },
  {
   "cell_type": "code",
   "execution_count": 8,
   "id": "f945b7d1-f83e-4328-b27e-12aa66002bbc",
   "metadata": {},
   "outputs": [],
   "source": [
    "ddfFields = ['COSMOS', 'XMM-LSS', 'ELAISS1', 'ECDFS', 'EDFS']\n",
    "agn_m5 = {\"u\": 22.89, \"g\": 23.94, \"r\": 23.5, \"i\": 22.93, \"z\": 22.28, \"y\": 21.5}"
   ]
  },
  {
   "cell_type": "markdown",
   "id": "12437270-d309-4fff-8bfc-6e5c13e4d794",
   "metadata": {
    "tags": []
   },
   "source": [
    "#### 2.1 Default 10 bins"
   ]
  },
  {
   "cell_type": "code",
   "execution_count": 9,
   "id": "a395e26f-4aa8-4dc6-bbae-cb5426bf2596",
   "metadata": {},
   "outputs": [],
   "source": [
    "# metric name template\n",
    "metricNameTemp1 = 'logTGap_{}_{}_10'\n",
    "\n",
    "# custom sf bins\n",
    "nbin = 10\n",
    "mybins = np.logspace(0, np.log10(3650), nbin+1)\n",
    "myweights = np.full(nbin, 1/nbin)"
   ]
  },
  {
   "cell_type": "code",
   "execution_count": 10,
   "id": "9ac826c2-c6c4-42cc-887f-b65bcc37df98",
   "metadata": {
    "scrolled": true,
    "tags": []
   },
   "outputs": [
    {
     "name": "stdout",
     "output_type": "stream",
     "text": [
      "Runing metrics on Opsim: baseline_v2.1_10yrs!\n",
      "*****************************************\n",
      "Healpix slicer using NSIDE=128, approximate resolution 27.483891 arcminutes\n",
      "Healpix slicer using NSIDE=128, approximate resolution 27.483891 arcminutes\n"
     ]
    },
    {
     "ename": "KeyboardInterrupt",
     "evalue": "",
     "output_type": "error",
     "traceback": [
      "\u001b[0;31m---------------------------------------------------------------------------\u001b[0m",
      "\u001b[0;31mKeyboardInterrupt\u001b[0m                         Traceback (most recent call last)",
      "Input \u001b[0;32mIn [10]\u001b[0m, in \u001b[0;36m<cell line: 1>\u001b[0;34m()\u001b[0m\n\u001b[1;32m     14\u001b[0m \u001b[38;5;28;01mfor\u001b[39;00m band \u001b[38;5;129;01min\u001b[39;00m \u001b[38;5;124m'\u001b[39m\u001b[38;5;124mugrizy\u001b[39m\u001b[38;5;124m'\u001b[39m:\n\u001b[1;32m     15\u001b[0m     metricName \u001b[38;5;241m=\u001b[39m metricNameTemp1\u001b[38;5;241m.\u001b[39mformat(ddf, band)\n\u001b[0;32m---> 16\u001b[0m     sfuncertdev \u001b[38;5;241m=\u001b[39m \u001b[43mSFUncertMetricDev\u001b[49m\u001b[43m(\u001b[49m\u001b[43mmag\u001b[49m\u001b[38;5;241;43m=\u001b[39;49m\u001b[43magn_m5\u001b[49m\u001b[43m[\u001b[49m\u001b[43mband\u001b[49m\u001b[43m]\u001b[49m\u001b[43m,\u001b[49m\u001b[43m \u001b[49m\n\u001b[1;32m     17\u001b[0m \u001b[43m                                    \u001b[49m\u001b[43mbins\u001b[49m\u001b[38;5;241;43m=\u001b[39;49m\u001b[43mmybins\u001b[49m\u001b[43m,\u001b[49m\u001b[43m \u001b[49m\u001b[43mweight\u001b[49m\u001b[38;5;241;43m=\u001b[39;49m\u001b[43mmyweights\u001b[49m\u001b[43m,\u001b[49m\u001b[43m \u001b[49m\n\u001b[1;32m     18\u001b[0m \u001b[43m                                    \u001b[49m\u001b[43msnr_cut\u001b[49m\u001b[38;5;241;43m=\u001b[39;49m\u001b[38;5;241;43m0\u001b[39;49m\u001b[43m,\u001b[49m\u001b[43m \u001b[49m\u001b[43mmetricName\u001b[49m\u001b[38;5;241;43m=\u001b[39;49m\u001b[43mmetricName\u001b[49m\u001b[43m)\u001b[49m\n\u001b[1;32m     19\u001b[0m     constraint \u001b[38;5;241m=\u001b[39m \u001b[38;5;124mf\u001b[39m\u001b[38;5;124m'\u001b[39m\u001b[38;5;124mfilter = \u001b[39m\u001b[38;5;124m\"\u001b[39m\u001b[38;5;132;01m{\u001b[39;00mband\u001b[38;5;132;01m}\u001b[39;00m\u001b[38;5;124m\"\u001b[39m\u001b[38;5;124m'\u001b[39m\n\u001b[1;32m     21\u001b[0m     \u001b[38;5;66;03m# create bundle\u001b[39;00m\n",
      "File \u001b[0;32m~/mount/Projects/LSST_SF_Metric/phase2/../scripts/agnstructure.py:73\u001b[0m, in \u001b[0;36mSFUncertMetricDev.__init__\u001b[0;34m(self, mag, timesCol, m5Col, allGaps, units, bins, weight, metricName, snr_cut, filterCol, dust, **kwargs)\u001b[0m\n\u001b[1;32m     64\u001b[0m maps \u001b[38;5;241m=\u001b[39m [\u001b[38;5;124m\"\u001b[39m\u001b[38;5;124mDustMap\u001b[39m\u001b[38;5;124m\"\u001b[39m]\n\u001b[1;32m     65\u001b[0m \u001b[38;5;28msuper\u001b[39m(SFUncertMetricDev, \u001b[38;5;28mself\u001b[39m)\u001b[38;5;241m.\u001b[39m\u001b[38;5;21m__init__\u001b[39m(\n\u001b[1;32m     66\u001b[0m     col\u001b[38;5;241m=\u001b[39m[\u001b[38;5;28mself\u001b[39m\u001b[38;5;241m.\u001b[39mtimesCol, m5Col, filterCol],\n\u001b[1;32m     67\u001b[0m     metricName\u001b[38;5;241m=\u001b[39m\u001b[38;5;28mself\u001b[39m\u001b[38;5;241m.\u001b[39mmetricName,\n\u001b[0;32m   (...)\u001b[0m\n\u001b[1;32m     71\u001b[0m     \u001b[38;5;241m*\u001b[39m\u001b[38;5;241m*\u001b[39mkwargs\n\u001b[1;32m     72\u001b[0m )\n\u001b[0;32m---> 73\u001b[0m dust_properties \u001b[38;5;241m=\u001b[39m \u001b[43mDust_values\u001b[49m\u001b[43m(\u001b[49m\u001b[43m)\u001b[49m\n\u001b[1;32m     74\u001b[0m \u001b[38;5;28mself\u001b[39m\u001b[38;5;241m.\u001b[39mAx1 \u001b[38;5;241m=\u001b[39m dust_properties\u001b[38;5;241m.\u001b[39mAx1\n",
      "File \u001b[0;32m/opt/conda/envs/rubin/lib/python3.10/site-packages/rubin_sim/photUtils/PhotometricParameters.py:30\u001b[0m, in \u001b[0;36mDust_values.__init__\u001b[0;34m(self, R_v, bandpassDict, ref_ebv)\u001b[0m\n\u001b[1;32m     28\u001b[0m \u001b[38;5;28mself\u001b[39m\u001b[38;5;241m.\u001b[39mAx1 \u001b[38;5;241m=\u001b[39m {}\n\u001b[1;32m     29\u001b[0m \u001b[38;5;28;01mif\u001b[39;00m bandpassDict \u001b[38;5;129;01mis\u001b[39;00m \u001b[38;5;28;01mNone\u001b[39;00m:\n\u001b[0;32m---> 30\u001b[0m     bandpassDict \u001b[38;5;241m=\u001b[39m \u001b[43mBandpassDict\u001b[49m\u001b[38;5;241;43m.\u001b[39;49m\u001b[43mloadTotalBandpassesFromFiles\u001b[49m\u001b[43m(\u001b[49m\n\u001b[1;32m     31\u001b[0m \u001b[43m        \u001b[49m\u001b[43m[\u001b[49m\u001b[38;5;124;43m\"\u001b[39;49m\u001b[38;5;124;43mu\u001b[39;49m\u001b[38;5;124;43m\"\u001b[39;49m\u001b[43m,\u001b[49m\u001b[43m \u001b[49m\u001b[38;5;124;43m\"\u001b[39;49m\u001b[38;5;124;43mg\u001b[39;49m\u001b[38;5;124;43m\"\u001b[39;49m\u001b[43m,\u001b[49m\u001b[43m \u001b[49m\u001b[38;5;124;43m\"\u001b[39;49m\u001b[38;5;124;43mr\u001b[39;49m\u001b[38;5;124;43m\"\u001b[39;49m\u001b[43m,\u001b[49m\u001b[43m \u001b[49m\u001b[38;5;124;43m\"\u001b[39;49m\u001b[38;5;124;43mi\u001b[39;49m\u001b[38;5;124;43m\"\u001b[39;49m\u001b[43m,\u001b[49m\u001b[43m \u001b[49m\u001b[38;5;124;43m\"\u001b[39;49m\u001b[38;5;124;43mz\u001b[39;49m\u001b[38;5;124;43m\"\u001b[39;49m\u001b[43m,\u001b[49m\u001b[43m \u001b[49m\u001b[38;5;124;43m\"\u001b[39;49m\u001b[38;5;124;43my\u001b[39;49m\u001b[38;5;124;43m\"\u001b[39;49m\u001b[43m]\u001b[49m\n\u001b[1;32m     32\u001b[0m \u001b[43m    \u001b[49m\u001b[43m)\u001b[49m\n\u001b[1;32m     34\u001b[0m \u001b[38;5;28;01mfor\u001b[39;00m filtername \u001b[38;5;129;01min\u001b[39;00m bandpassDict:\n\u001b[1;32m     35\u001b[0m     wavelen_min \u001b[38;5;241m=\u001b[39m bandpassDict[filtername]\u001b[38;5;241m.\u001b[39mwavelen\u001b[38;5;241m.\u001b[39mmin()\n",
      "File \u001b[0;32m/opt/conda/envs/rubin/lib/python3.10/site-packages/rubin_sim/photUtils/BandpassDict.py:192\u001b[0m, in \u001b[0;36mBandpassDict.loadTotalBandpassesFromFiles\u001b[0;34m(cls, bandpassNames, bandpassDir, bandpassRoot)\u001b[0m\n\u001b[1;32m    190\u001b[0m \u001b[38;5;28;01mfor\u001b[39;00m w \u001b[38;5;129;01min\u001b[39;00m bandpassNames:\n\u001b[1;32m    191\u001b[0m     bandpassDummy \u001b[38;5;241m=\u001b[39m Bandpass()\n\u001b[0;32m--> 192\u001b[0m     \u001b[43mbandpassDummy\u001b[49m\u001b[38;5;241;43m.\u001b[39;49m\u001b[43mreadThroughput\u001b[49m\u001b[43m(\u001b[49m\n\u001b[1;32m    193\u001b[0m \u001b[43m        \u001b[49m\u001b[43mos\u001b[49m\u001b[38;5;241;43m.\u001b[39;49m\u001b[43mpath\u001b[49m\u001b[38;5;241;43m.\u001b[39;49m\u001b[43mjoin\u001b[49m\u001b[43m(\u001b[49m\u001b[43mbandpassDir\u001b[49m\u001b[43m,\u001b[49m\u001b[43m \u001b[49m\u001b[38;5;124;43m\"\u001b[39;49m\u001b[38;5;132;43;01m%s\u001b[39;49;00m\u001b[38;5;124;43m.dat\u001b[39;49m\u001b[38;5;124;43m\"\u001b[39;49m\u001b[43m \u001b[49m\u001b[38;5;241;43m%\u001b[39;49m\u001b[43m \u001b[49m\u001b[43m(\u001b[49m\u001b[43mbandpassRoot\u001b[49m\u001b[43m \u001b[49m\u001b[38;5;241;43m+\u001b[39;49m\u001b[43m \u001b[49m\u001b[43mw\u001b[49m\u001b[43m)\u001b[49m\u001b[43m)\u001b[49m\n\u001b[1;32m    194\u001b[0m \u001b[43m    \u001b[49m\u001b[43m)\u001b[49m\n\u001b[1;32m    195\u001b[0m     bandpassList\u001b[38;5;241m.\u001b[39mappend(bandpassDummy)\n\u001b[1;32m    197\u001b[0m \u001b[38;5;28;01mreturn\u001b[39;00m \u001b[38;5;28mcls\u001b[39m(bandpassList, bandpassNames)\n",
      "File \u001b[0;32m/opt/conda/envs/rubin/lib/python3.10/site-packages/rubin_sim/photUtils/Bandpass.py:239\u001b[0m, in \u001b[0;36mBandpass.readThroughput\u001b[0;34m(self, filename, wavelen_min, wavelen_max, wavelen_step)\u001b[0m\n\u001b[1;32m    237\u001b[0m sb \u001b[38;5;241m=\u001b[39m []\n\u001b[1;32m    238\u001b[0m \u001b[38;5;28;01mfor\u001b[39;00m line \u001b[38;5;129;01min\u001b[39;00m f:\n\u001b[0;32m--> 239\u001b[0m     \u001b[38;5;28;01mif\u001b[39;00m \u001b[43mline\u001b[49m\u001b[38;5;241;43m.\u001b[39;49m\u001b[43mstartswith\u001b[49m\u001b[43m(\u001b[49m\u001b[38;5;124;43m\"\u001b[39;49m\u001b[38;5;124;43m#\u001b[39;49m\u001b[38;5;124;43m\"\u001b[39;49m\u001b[43m)\u001b[49m \u001b[38;5;129;01mor\u001b[39;00m line\u001b[38;5;241m.\u001b[39mstartswith(\u001b[38;5;124m\"\u001b[39m\u001b[38;5;124m$\u001b[39m\u001b[38;5;124m\"\u001b[39m) \u001b[38;5;129;01mor\u001b[39;00m line\u001b[38;5;241m.\u001b[39mstartswith(\u001b[38;5;124m\"\u001b[39m\u001b[38;5;124m!\u001b[39m\u001b[38;5;124m\"\u001b[39m):\n\u001b[1;32m    240\u001b[0m         \u001b[38;5;28;01mcontinue\u001b[39;00m\n\u001b[1;32m    241\u001b[0m     values \u001b[38;5;241m=\u001b[39m line\u001b[38;5;241m.\u001b[39msplit()\n",
      "\u001b[0;31mKeyboardInterrupt\u001b[0m: "
     ]
    }
   ],
   "source": [
    "for run in ddf_runs:\n",
    "    print(f'Runing metrics on Opsim: {run}!')\n",
    "    print('*****************************************')\n",
    "    bdict1 = {}\n",
    "\n",
    "    for ddf in ddfFields:\n",
    "        # custom slicer\n",
    "        nside = 128\n",
    "        radius = 1.8\n",
    "        hp_mask = ddf_hp_mask(ddf, radius, nside)\n",
    "        slicer = slicers.HealpixSubsetSlicer(nside, np.where(hp_mask == 1)[0])\n",
    "        slicer.slicerName = 'HealpixSlicer'  # hack maf\n",
    "    \n",
    "        for band in 'ugrizy':\n",
    "            metricName = metricNameTemp1.format(ddf, band)\n",
    "            sfuncertdev = SFUncertMetricDev(mag=agn_m5[band], \n",
    "                                            bins=mybins, weight=myweights, \n",
    "                                            snr_cut=0, metricName=metricName)\n",
    "            constraint = f'filter = \"{band}\"'\n",
    "\n",
    "            # create bundle\n",
    "            bdict1[metricName] = metricBundles.MetricBundle(sfuncertdev, slicer, \n",
    "                                                            constraint, \n",
    "                                                            runName = run)\n",
    "\n",
    "    gp = metricBundles.MetricBundleGroup(bdict1, opSimDbs[run], outDir=metricDataPath,\n",
    "                                         resultsDb=resultDbs[run], verbose=False)\n",
    "    gp.runAll()"
   ]
  },
  {
   "cell_type": "markdown",
   "id": "75c0ad28-cb1d-44ad-82a3-85699710235a",
   "metadata": {},
   "source": [
    "#### Read Results from Disk & Make Plots"
   ]
  },
  {
   "cell_type": "code",
   "execution_count": null,
   "id": "63c85e85-665d-4d1f-8683-7eaf79920e9e",
   "metadata": {
    "scrolled": true,
    "tags": []
   },
   "outputs": [],
   "source": [
    "# retrieve metricBundles for each opsim run and store them in a dictionary\n",
    "bundleDicts = {}\n",
    "\n",
    "for runName in resultDbs:\n",
    "    bundleDicts[runName] = bundleDictFromDisk(resultDbs[runName], runName, \\\n",
    "                                              metricDataPath)"
   ]
  },
  {
   "cell_type": "code",
   "execution_count": null,
   "id": "8220bc1d-dc7d-4c86-8e05-61f669b8921f",
   "metadata": {},
   "outputs": [],
   "source": [
    "# plot COSMOS in g band\n",
    "for run in bundleDicts:\n",
    "    bDict = bundleDicts[run]\n",
    "    key = [metricKey for metricKey in bDict.keys() \n",
    "           if metricKey[1] == 'logTGap_XMM-LSS_g_10'][0]\n",
    "    metric = bDict[key]\n",
    "    mask = metric.metricValues.mask\n",
    "    data = metric.metricValues.data[~mask]\n",
    "    nobs_md = np.median(np.vstack(data), axis=0)\n",
    "    \n",
    "    plt.stairs(np.log10(nobs_md), np.log10(mybins), label=run)\n",
    "    \n",
    "plt.xlabel('Log($\\Delta t$)')\n",
    "plt.yscale('log')\n",
    "plt.legend(loc=3, bbox_to_anchor=(1.,0.))\n",
    "plt.ylabel('N pairs')\n",
    "plt.title('XMM-LSS_g; 10 bins')"
   ]
  },
  {
   "cell_type": "markdown",
   "id": "b7306a59-0383-4e66-9976-0cde2ae3d22c",
   "metadata": {
    "tags": []
   },
   "source": [
    "#### 2.2 Default 20 bins"
   ]
  },
  {
   "cell_type": "code",
   "execution_count": null,
   "id": "fbe81d17-4fc1-46d1-8e97-ba6d4b0a6fa8",
   "metadata": {},
   "outputs": [],
   "source": [
    "# metric name template\n",
    "metricNameTemp2 = 'logTGap_{}_{}_20'\n",
    "\n",
    "# custom sf bins\n",
    "nbin = 20\n",
    "mybins = np.logspace(0, np.log10(3650), nbin+1)\n",
    "myweights = np.full(nbin, 1/nbin)"
   ]
  },
  {
   "cell_type": "code",
   "execution_count": null,
   "id": "241bf63b-73c0-4a47-bf2b-4228238b1124",
   "metadata": {
    "scrolled": true,
    "tags": []
   },
   "outputs": [],
   "source": [
    "for run in ddf_runs:\n",
    "    print(f'Runing metrics on Opsim: {run}!')\n",
    "    print('*****************************************')\n",
    "    bdict2 = {}\n",
    "    \n",
    "    for ddf in ddfFields:\n",
    "        # custom slicer\n",
    "        nside = 128\n",
    "        radius = 1.8\n",
    "        hp_mask = ddf_hp_mask(ddfFields[0], radius, nside)\n",
    "        slicer = slicers.HealpixSubsetSlicer(nside, np.where(hp_mask == 1)[0])\n",
    "        slicer.slicerName = 'HealpixSlicer'  # hack maf\n",
    "\n",
    "        for band in 'ugrizy':\n",
    "            metricName = metricNameTemp2.format(ddf, band)\n",
    "            sfuncertdev = SFUncertMetricDev(mag=agn_m5[band], \n",
    "                                            bins=mybins, weight=myweights, \n",
    "                                            snr_cut=0, metricName=metricName)\n",
    "            constraint = f'filter = \"{band}\"'\n",
    "\n",
    "            # create bundle\n",
    "            bdict2[metricName] = metricBundles.MetricBundle(sfuncertdev, slicer, \n",
    "                                                            constraint, \n",
    "                                                            runName = run)\n",
    "\n",
    "    gp = metricBundles.MetricBundleGroup(bdict2, opSimDbs[run], outDir=metricDataPath, \n",
    "                                         resultsDb=resultDbs[run], verbose=False)\n",
    "    gp.runAll()"
   ]
  },
  {
   "cell_type": "code",
   "execution_count": null,
   "id": "afa1616e-0a66-4cd4-bff2-2a4a8e27fc39",
   "metadata": {},
   "outputs": [],
   "source": [
    "# plot COSMOS in g band\n",
    "for run in bundleDicts:\n",
    "    bDict = bundleDicts[run]\n",
    "    key = [metricKey for metricKey in bDict.keys() \n",
    "           if metricKey[1] == 'logTGap_XMM-LSS_g_20'][0]\n",
    "    metric = bDict[key]\n",
    "    mask = metric.metricValues.mask\n",
    "    data = metric.metricValues.data[~mask]\n",
    "    nobs_md = np.median(np.vstack(data), axis=0)\n",
    "    \n",
    "    plt.stairs(np.log10(nobs_md), np.log10(mybins), label=run)\n",
    "    \n",
    "plt.xlabel('Log($\\Delta t$)')\n",
    "plt.yscale('log')\n",
    "plt.legend(loc=3, bbox_to_anchor=(1.,0.))\n",
    "plt.ylabel('N pairs')\n",
    "plt.title('XMM-LSS_g; 20 bins')"
   ]
  }
 ],
 "metadata": {
  "kernelspec": {
   "display_name": "rubin",
   "language": "python",
   "name": "rubin"
  },
  "language_info": {
   "codemirror_mode": {
    "name": "ipython",
    "version": 3
   },
   "file_extension": ".py",
   "mimetype": "text/x-python",
   "name": "python",
   "nbconvert_exporter": "python",
   "pygments_lexer": "ipython3",
   "version": "3.10.5"
  },
  "widgets": {
   "application/vnd.jupyter.widget-state+json": {
    "state": {},
    "version_major": 2,
    "version_minor": 0
   }
  }
 },
 "nbformat": 4,
 "nbformat_minor": 5
}
